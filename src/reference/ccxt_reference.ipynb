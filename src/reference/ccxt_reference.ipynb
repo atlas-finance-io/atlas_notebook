{
 "cells": [
  {
   "cell_type": "markdown",
   "metadata": {},
   "source": [
    "## Exploring the CCXT Library \n",
    "\n",
    "This notebook will explore the ccxt library documentation. We'll document how to use their public methods. "
   ]
  },
  {
   "cell_type": "code",
   "execution_count": null,
   "metadata": {},
   "outputs": [],
   "source": [
    "import ccxt\n",
    "import json\n",
    "import pandas as pd\n",
    "import matplotlib.pyplot as plt\n",
    "import matplotlib.dates as mdates\n",
    "import matplotlib.pyplot as plt\n",
    "from datetime import datetime\n",
    "from tabulate import tabulate\n",
    "import mplfinance as mpf\n",
    "\n",
    "print(ccxt.exchanges)"
   ]
  },
  {
   "cell_type": "code",
   "execution_count": null,
   "metadata": {},
   "outputs": [],
   "source": [
    "exchange = ccxt.binance()\n",
    "# exchange.set_sandbox_mode(True) # enable sandbox mode\n",
    "\n",
    "print(exchange.fetchTime()) # returns the current integer timestamp in milliseconds from the exchange server.\n",
    "print(exchange.fetchStatus())"
   ]
  },
  {
   "cell_type": "markdown",
   "metadata": {},
   "source": [
    "### Grabbing some of metadata and available functions from the exchange"
   ]
  },
  {
   "cell_type": "code",
   "execution_count": null,
   "metadata": {},
   "outputs": [],
   "source": [
    "def print_exchange_info(exchange_id):\n",
    "    # Create an instance of the exchange\n",
    "    exchange_class = getattr(ccxt, exchange_id)\n",
    "    exchange = exchange_class()\n",
    "\n",
    "    # Print the exchange information\n",
    "    print(f\"Name: {exchange.name}\")\n",
    "    print(f\"ID: {exchange.id}\")\n",
    "    print(f\"Countries: {exchange.countries}\")\n",
    "    if exchange.has:\n",
    "        for function_name, is_supported in exchange.has.items():\n",
    "            if is_supported:\n",
    "                print(function_name)\n",
    "\n",
    "# Example usage:\n",
    "print_exchange_info('binance')"
   ]
  },
  {
   "cell_type": "markdown",
   "metadata": {},
   "source": [
    "#### Unified API is a subset of methods common among exchanges"
   ]
  },
  {
   "cell_type": "markdown",
   "metadata": {},
   "source": [
    "### Price Tickers\n",
    "\n",
    "A ticker is a statistical calculation with the information calculated over the past 24 hours for a specific market.\n",
    "\n",
    "All fields in the ticker represent the past 24 hours prior to timestamp.\n",
    "\n",
    "- The `bidVolume` is the volume (amount) of current best bid in the orderbook.\n",
    "- The `askVolume` is the volume (amount) of current best ask in the orderbook.\n",
    "- The `baseVolume` is the amount of base currency traded (bought or sold) in the last 24 hours.\n",
    "- The `quoteVolume` is the amount of quote currency traded (bought or sold) in the last 24 hours."
   ]
  },
  {
   "cell_type": "code",
   "execution_count": null,
   "metadata": {},
   "outputs": [],
   "source": [
    "eth = exchange.fetchTicker('ETHUSDT')\n",
    "eth\n",
    "\n",
    "# Multiple Tickers\n",
    "# multiple_tickers = exchange.fetchTickers(['BTCUSDT', 'LTCUSDT'])\n",
    "\n",
    "# All the exchanges tickers at once. \n",
    "# all_tickers = exchange.fetchTickers()"
   ]
  },
  {
   "cell_type": "markdown",
   "metadata": {},
   "source": [
    "### Fetching OHLCV\n",
    "\n",
    "**Default number of bars returned is 500**\n",
    "\n",
    "To obtain historical Mark, Index Price, and Premium Index candlesticks, pass the 'price' params-override to `fetchOHLCV`. The 'price' parameter accepts one of the following values:\n",
    "\n",
    "- **'mark'**: It is the weighted average value of the underlying asset listed on major spot exchanges, which reflects the fair market value of the futures contract and is constantly updated to account for any changes in the asset’s spot price or the weighting of the exchanges used to calculate the index.\n",
    "- **'index'**: The Price Index is the primary component of Mark Price. It is the weighted average value of the underlying asset listed on major spot exchanges, which reflects the fair market value of the futures contract and is constantly updated to account for any changes in the asset's spot price or the weighting of the exchanges used to calculate the index.\n",
    "- **'premiumIndex'**:"
   ]
  },
  {
   "cell_type": "code",
   "execution_count": null,
   "metadata": {},
   "outputs": [],
   "source": [
    "timeframe = '1d'  # 1 day\n",
    "limit = 100  # Last 10 bars\n",
    "ohlcv = exchange.fetch_ohlcv('ONDOUSDT', timeframe, limit=limit)\n",
    "\n",
    "# Convert the data to a Pandas DataFrame and set the column names\n",
    "ohlcv_df = pd.DataFrame(ohlcv, columns=['Timestamp', 'Open', 'High', 'Low', 'Close', 'Volume'])\n",
    "\n",
    "# Convert the timestamp to a readable date format\n",
    "ohlcv_df['Timestamp'] = pd.to_datetime(ohlcv_df['Timestamp'], unit='ms')\n",
    "\n",
    "# Print the DataFrame in a tabulated format\n",
    "print(ohlcv_df)"
   ]
  },
  {
   "cell_type": "code",
   "execution_count": null,
   "metadata": {},
   "outputs": [],
   "source": [
    "mpf_style = 'nightclouds'\n",
    "mpf.plot(ohlcv_df.set_index('Timestamp'), type='candle', style=mpf_style, volume=True, title='Candlestick')"
   ]
  },
  {
   "cell_type": "markdown",
   "metadata": {},
   "source": [
    "#### Fetching Full price history"
   ]
  },
  {
   "cell_type": "code",
   "execution_count": null,
   "metadata": {},
   "outputs": [],
   "source": [
    "def fetch_full_ohlcv_history(exchange, symbol, timeframe):\n",
    "    all_ohlcv = []\n",
    "    since = 0  # Set to 0 to start from the earliest available data\n",
    "    while True:\n",
    "        ohlcv = exchange.fetch_ohlcv(symbol, timeframe, since=since)\n",
    "        if not ohlcv:\n",
    "            break\n",
    "        all_ohlcv.extend(ohlcv)\n",
    "        since = ohlcv[-1][0] + 1  # Increment since to the timestamp of the last fetched bar\n",
    "    return all_ohlcv\n",
    "\n",
    "# Fetch the full OHLCV history\n",
    "full_ohlcv = fetch_full_ohlcv_history(exchange, 'OPUSDT', timeframe)\n",
    "\n",
    "# Convert the full OHLCV history into a DataFrame\n",
    "ohlcv_df = pd.DataFrame(full_ohlcv, columns=['Timestamp', 'Open', 'High', 'Low', 'Close', 'Volume'])\n",
    "\n",
    "# Convert the 'Timestamp' column to a datetime format\n",
    "ohlcv_df['Timestamp'] = pd.to_datetime(ohlcv_df['Timestamp'], unit='ms')\n",
    "\n",
    "# Print\n",
    "print(ohlcv_df)"
   ]
  },
  {
   "cell_type": "markdown",
   "metadata": {},
   "source": [
    "### Orderbook\n",
    "\n",
    "Exchanges expose information on open orders with bid (buy) and ask (sell) prices, volumes and other data. Usually there is a separate endpoint for querying current state (stack frame) of the order book for a particular market. An order book is also often called market depth. The order book information is used in the trading decision making process.\n",
    "\n",
    "1. `fetchOrderBook(symbol, limit=None, params={})` to fetch a single market's order book.\n",
    "2. `fetchOrderBooks(symbols)` to fetch order books for multiple markets.\n",
    "3. `fetchOrderBooks()` to fetch order books for all markets if the exchange supports this."
   ]
  },
  {
   "cell_type": "code",
   "execution_count": null,
   "metadata": {},
   "outputs": [],
   "source": [
    "symbol = 'BTC/USDT'  # Replace with the symbol you want to query\n",
    "limit = 3  # Replace with the limit you want, or keep as None for default\n",
    "params = {}  # Replace with any additional parameters if needed\n",
    "order_book_single = exchange.fetchOrderBook(symbol, limit, params)\n",
    "\n",
    "print(\"Single Market Order Book:\")\n",
    "print(json.dumps(order_book_single, indent=4))"
   ]
  },
  {
   "cell_type": "markdown",
   "metadata": {},
   "source": [
    "### Ploting the market depth chart"
   ]
  },
  {
   "cell_type": "code",
   "execution_count": null,
   "metadata": {},
   "outputs": [],
   "source": [
    "order_book = exchange.fetch_order_book('BTC/USDT', limit=100)\n",
    "bids = order_book['bids']\n",
    "asks = order_book['asks']\n",
    "\n",
    "bids = sorted([(float(price), float(quantity)) for price, quantity in bids], reverse=True)\n",
    "asks = sorted([(float(price), float(quantity)) for price, quantity in asks])\n",
    "\n",
    "bid_prices, bid_cumulative = zip(*[(price, sum(quantity for p, quantity in bids if p >= price)) for price, _ in bids])\n",
    "ask_prices, ask_cumulative = zip(*[(price, sum(quantity for p, quantity in asks if p <= price)) for price, _ in asks])\n",
    "\n",
    "mid_price = (bid_prices[0] + ask_prices[0]) / 2\n",
    "\n",
    "plt.style.use('dark_background')\n",
    "plt.figure(figsize=(10, 6))\n",
    "plt.plot(bid_prices, bid_cumulative, label='Bids', color='green')\n",
    "plt.plot(ask_prices, ask_cumulative, label='Asks', color='red')\n",
    "plt.fill_between(bid_prices, bid_cumulative, color='green', alpha=0.3)\n",
    "plt.fill_between(ask_prices, ask_cumulative, color='red', alpha=0.3)\n",
    "plt.title('BTCUSDT Market Depth')\n",
    "plt.xlabel('Price')\n",
    "plt.ylabel('Cumulative Quantity')\n",
    "plt.legend()\n",
    "plt.annotate(f'Mid Price: {mid_price}', xy=(mid_price, 0), xytext=(mid_price, max(max(bid_cumulative), max(ask_cumulative))/2),\n",
    "             arrowprops=dict(facecolor='yellow', shrink=0.05), horizontalalignment='center')\n",
    "plt.show()"
   ]
  },
  {
   "cell_type": "markdown",
   "metadata": {},
   "source": [
    "### Public Trades\n",
    "\n",
    "Public trades represent the most recent transactions that have occurred on an exchange for a particular trading pair, such as BTC/USD. These trades are public because they have been executed and are now part of the market's transaction history. Traders and analysts often use this data to understand the current market sentiment, to analyze the trading volume, and to detect patterns or trends in the price movement."
   ]
  },
  {
   "cell_type": "code",
   "execution_count": null,
   "metadata": {},
   "outputs": [],
   "source": [
    "symbol = 'BTC/USD'  # Replace with the desired trading pair\n",
    "limit = 20\n",
    "\n",
    "public_trades = exchange.fetch_trades(symbol, limit=limit)\n",
    "\n",
    "# Prepare the data for tabulation\n",
    "headers = [\"Trade ID\", \"Timestamp\", \"Symbol\", \"Type\", \"Side\", \"Taker or Maker\", \"Price\", \"Amount\"]\n",
    "trade_data = [\n",
    "    [\n",
    "        trade['id'],\n",
    "        f\"{trade['timestamp']} ({trade['datetime']})\",\n",
    "        trade['symbol'],\n",
    "        trade['type'],\n",
    "        trade['side'],\n",
    "        trade['takerOrMaker'],\n",
    "        trade['price'],\n",
    "        trade['amount']\n",
    "    ]\n",
    "    for trade in public_trades\n",
    "]\n",
    "\n",
    "# Print the trades in a tabulated format\n",
    "print(tabulate(trade_data, headers=headers))"
   ]
  },
  {
   "cell_type": "markdown",
   "metadata": {},
   "source": [
    "### Fetching the Funding Rate\n",
    "\n",
    "Data on the current, most recent, and next funding rates can be obtained using the methods\n",
    "\n",
    "- fetchFundingRates () for all market symbols\n",
    "- fetchFundingRates ([ symbol1, symbol2, ... ]) for multiple market symbols\n",
    "- fetchFundingRate (symbol) for a single market symbol\n"
   ]
  },
  {
   "cell_type": "code",
   "execution_count": null,
   "metadata": {},
   "outputs": [],
   "source": [
    "if exchange.has['fetchFundingRates']:\n",
    "    # Fetch funding rates for all market symbols\n",
    "    all_funding_rates = exchange.fetchFundingRates()\n",
    "    # print(\"All funding rates:\", all_funding_rates)\n",
    "else:\n",
    "    print(f\"The exchange {exchange_id} does not support fetchFundingRates.\")\n",
    "\n",
    "# To fetch funding rates for multiple specific symbols\n",
    "symbols = ['BTC/USDT:USDT', 'ETH/USDT:USDT']  # Replace with your symbols of interest\n",
    "if exchange.has['fetchFundingRates']:\n",
    "    multiple_funding_rates = exchange.fetchFundingRates(symbols)\n",
    "    # print(f\"Funding rates for {symbols}:\", multiple_funding_rates)\n",
    "else:\n",
    "    print(f\"The exchange {exchange_id} does not support fetchFundingRates for multiple symbols.\")\n",
    "\n",
    "# To fetch the funding rate for a single market symbol\n",
    "symbol = 'BTC/USDT:USDT'  # Replace with your symbol of interest\n",
    "if exchange.has['fetchFundingRate']:\n",
    "    single_funding_rate = exchange.fetchFundingRate(symbol)\n",
    "    # Format the single funding rate in nicely formatted JSON\n",
    "    formatted_single_funding_rate = json.dumps(single_funding_rate, indent=4)\n",
    "    print(f\"Funding rate for {symbol} in JSON format:\\n{formatted_single_funding_rate}\")\n",
    "else:\n",
    "    print(f\"The exchange {exchange_id} does not support fetchFundingRate for a single symbol.\")"
   ]
  },
  {
   "cell_type": "markdown",
   "metadata": {},
   "source": [
    "### Funding Rate History Plotted"
   ]
  },
  {
   "cell_type": "code",
   "execution_count": null,
   "metadata": {},
   "outputs": [],
   "source": [
    "symbol = 'BTC/USDT:USDT'  # Replace with the actual symbol you want to fetch\n",
    "since = None  # Replace with the actual timestamp or leave as None\n",
    "limit = 100  # Replace with the desired limit or leave as None\n",
    "params = {}  # Replace with any additional params or leave as empty dict\n",
    "\n",
    "# Fetch the funding rate history\n",
    "funding_rate_history = exchange.fetchFundingRateHistory(symbol, since, limit, params)\n",
    "\n",
    "# Extract timestamps and funding rates\n",
    "timestamps = [entry['timestamp'] for entry in funding_rate_history]\n",
    "funding_rates = [entry['fundingRate'] for entry in funding_rate_history]\n",
    "\n",
    "# Convert timestamps to matplotlib dates\n",
    "dates = [mdates.date2num(datetime.utcfromtimestamp(timestamp / 1000)) for timestamp in timestamps]\n",
    "\n",
    "# Plot the funding rates\n",
    "plt.figure(figsize=(10, 5))\n",
    "plt.plot(dates, funding_rates, label='Funding Rate')  # Plot the funding rates over time\n",
    "\n",
    "# Format the x-axis to show fewer date labels and format them properly\n",
    "plt.gca().xaxis.set_major_locator(mdates.AutoDateLocator())\n",
    "plt.gca().xaxis.set_major_formatter(mdates.DateFormatter('%Y-%m-%d'))\n",
    "plt.gcf().autofmt_xdate()  # Auto-format the x-axis labels for better readability\n",
    "\n",
    "# Include a label of the last funding rate as a percentage and the date time\n",
    "if funding_rates:\n",
    "    last_funding_rate = funding_rates[-1]\n",
    "    last_funding_rate_percentage = last_funding_rate * 100\n",
    "    last_date = datetime.utcfromtimestamp(timestamps[-1] / 1000).strftime('%Y-%m-%d %H:%M:%S')\n",
    "    plt.annotate(f'{last_funding_rate_percentage:.4f}%\\n{last_date}',  # Format to 4 decimal places and include date time\n",
    "                 xy=(dates[-1], last_funding_rate),\n",
    "                 xytext=(15, 0),  # Shift the text slightly to the right\n",
    "                 textcoords='offset points',\n",
    "                 ha='center', va='bottom')\n",
    "\n",
    "plt.title('Funding Rate History')\n",
    "plt.xlabel('Date')  # Label for the x-axis\n",
    "plt.ylabel('Funding Rate')  # Label for the y-axis\n",
    "plt.legend()  # Show the legend\n",
    "plt.tight_layout()  # Adjust layout to prevent clipping"
   ]
  },
  {
   "cell_type": "markdown",
   "metadata": {},
   "source": [
    "### Open Interest\n",
    "\n",
    "Open interest is a measure of the total number of outstanding derivative contracts, such as futures or options, that have not been settled. For traders, open interest provides useful information that can help them understand the market sentiment. An increasing open interest indicates that new money is flowing into the market, suggesting a strong trend and that the current trend is likely to continue. Conversely, decreasing open interest implies that the market is liquidating and may suggest that the current trend is nearing its end.\n",
    "\n",
    "Traders can use open interest in combination with other indicators to confirm trends and reversals. For example, if the price is rising and open interest is also increasing, it could be interpreted as a bullish sign. If the price is falling and open interest is increasing, it could be seen as a bearish sign. However, if the price is rising and open interest is decreasing, traders might take it as a sign that the trend is not supported by new buyers and could reverse soon.\n"
   ]
  },
  {
   "cell_type": "code",
   "execution_count": null,
   "metadata": {},
   "outputs": [],
   "source": [
    "symbol = 'BTC/USDT'  # Replace with the actual symbol you want to query\n",
    "\n",
    "# Fetch open interest for the specified symbol\n",
    "open_interest = exchange.fetchOpenInterest(symbol)\n",
    "\n",
    "# Print the open interest in formatted JSON\n",
    "print(json.dumps({\"Open Interest for\": symbol, \"Value\": open_interest}, indent=4))"
   ]
  },
  {
   "cell_type": "markdown",
   "metadata": {},
   "source": [
    "### Open Interest History\n",
    "\n",
    "Parameters\n",
    "\n",
    "- symbol (String) Unified CCXT market symbol (e.g. \"BTC/USDT:USDT\")\n",
    "- timeframe (String) Check exchange.timeframes for available values\n",
    "- since (Integer) Timestamp for the earliest open interest record (e.g. 1645807945000)\n",
    "- limit (Integer) The maximum number of open interest structures to retrieve (e.g. 10)\n",
    "- params (Dictionary) Extra parameters specific to the exchange API endpoint (e.g. {\"endTime\": 1645807945000})\n",
    "\n",
    "Note for OKX users: instead of a unified symbol okx.fetchOpenInterestHistory expects a unified currency code in the symbol argument (e.g. 'BTC').\n",
    "The format of the symbol should be 'BTC/USDT:USDT'"
   ]
  },
  {
   "cell_type": "code",
   "execution_count": null,
   "metadata": {},
   "outputs": [],
   "source": [
    "symbol = 'BTC/USDT:USDT'\n",
    "\n",
    "# Timeframe for the open interest data\n",
    "timeframe = '1d'\n",
    "\n",
    "try:\n",
    "    # Fetch the open interest history\n",
    "    open_interest_history = exchange.fetch_open_interest_history(symbol, timeframe)\n",
    "except Exception as e:\n",
    "    print(f\"An error occurred: {e}\")\n",
    "    open_interest_history = []  # Set to empty list in case of an error\n",
    "\n",
    "# Proceed only if open_interest_history is not empty\n",
    "if open_interest_history:\n",
    "    # Extract timestamps and open interest values\n",
    "    timestamps = [data['timestamp'] for data in open_interest_history]\n",
    "    # Corrected the key error by using the correct key for open interest values\n",
    "    # The correct key is 'openInterestValue' as per the command\n",
    "    open_interest_values = [float(data['info']['sumOpenInterestValue']) for data in open_interest_history]\n",
    "\n",
    "    # Convert timestamps to readable dates using the exchange's iso8601 method\n",
    "    dates = [exchange.iso8601(timestamp) for timestamp in timestamps]\n",
    "\n",
    "    plt.figure(figsize=(12, 6))\n",
    "    plt.plot(dates, open_interest_values, label='Open Interest')\n",
    "    plt.title('Open Interest History')\n",
    "    plt.xlabel('Date')\n",
    "    plt.ylabel('Open Interest Value')\n",
    "    plt.legend()\n",
    "    plt.xticks(rotation=45)  # Rotate x-axis labels for better readability\n",
    "    plt.show()"
   ]
  }
 ],
 "metadata": {
  "kernelspec": {
   "display_name": "venv",
   "language": "python",
   "name": "python3"
  },
  "language_info": {
   "codemirror_mode": {
    "name": "ipython",
    "version": 3
   },
   "file_extension": ".py",
   "mimetype": "text/x-python",
   "name": "python",
   "nbconvert_exporter": "python",
   "pygments_lexer": "ipython3",
   "version": "3.11.9"
  }
 },
 "nbformat": 4,
 "nbformat_minor": 2
}
