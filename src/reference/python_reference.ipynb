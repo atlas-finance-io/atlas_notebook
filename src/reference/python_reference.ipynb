{
 "cells": [
  {
   "cell_type": "markdown",
   "metadata": {},
   "source": [
    "# Python Basics"
   ]
  },
  {
   "cell_type": "code",
   "execution_count": null,
   "metadata": {},
   "outputs": [],
   "source": [
    "\n",
    "# Find common symbols in both df_filtered_bullish_long and df_filtered_bullish_short\n",
    "common_symbols = df_filtered_bullish_long.index.intersection(df_filtered_bullish_short.index)\n",
    "print(\"Symbols that are bullish in both long and short timeframes:\")\n",
    "print(common_symbols)"
   ]
  }
 ],
 "metadata": {
  "language_info": {
   "name": "python"
  }
 },
 "nbformat": 4,
 "nbformat_minor": 2
}
