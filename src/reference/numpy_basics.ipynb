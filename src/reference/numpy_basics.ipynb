{
 "cells": [
  {
   "cell_type": "markdown",
   "metadata": {},
   "source": [
    "# NumPy Basics\n",
    "\n",
    "An open source Python  library that's used in almost every field of science and engineering. Contains multidimensional array and matrix data structures. Has strong integration with Pandas and supports mathematical lfunctions that allow you to perform linear algebra calculations"
   ]
  },
  {
   "cell_type": "code",
   "execution_count": 4,
   "metadata": {},
   "outputs": [],
   "source": [
    "import numpy as np\n",
    "import matplotlib.pyplot as plt"
   ]
  },
  {
   "cell_type": "markdown",
   "metadata": {},
   "source": [
    "## Creating NumPy Arrays"
   ]
  },
  {
   "cell_type": "code",
   "execution_count": 6,
   "metadata": {},
   "outputs": [],
   "source": [
    "\n",
    "# Creating a 1-dimensional array\n",
    "arr1d = np.array([1, 2, 3, 4, 5])\n",
    "\n",
    "# Creating a 2-dimensional array\n",
    "arr2d = np.array([[1, 2, 3], [4, 5, 6], [7, 8, 9]])\n",
    "\n",
    "# Creating arrays with zeros and ones\n",
    "zeros_arr = np.zeros((3, 4))  # 3x4 array of zeros\n",
    "ones_arr = np.ones((2, 3))    # 2x3 array of ones\n",
    "\n",
    "# Creating an array with a range of values\n",
    "range_arr = np.arange(0, 10, 2)  # Array from 0 to 10 (exclusive) with a step of 2\n"
   ]
  },
  {
   "cell_type": "markdown",
   "metadata": {},
   "source": [
    "## Array Operations"
   ]
  },
  {
   "cell_type": "code",
   "execution_count": 7,
   "metadata": {},
   "outputs": [
    {
     "name": "stdout",
     "output_type": "stream",
     "text": [
      "Add result:  [6 6 6 6 6]\n",
      "Subtract result:  [-4 -2  0  2  4]\n",
      "Multiply result:  [5 8 9 8 5]\n",
      "Divide result:  [0.2 0.5 1.  2.  5. ]\n"
     ]
    }
   ],
   "source": [
    "array_one = np.array([1, 2, 3, 4, 5])\n",
    "array_two = np.array([5, 4, 3, 2, 1])\n",
    "\n",
    "# Element-wise operations\n",
    "print(\"Add result: \", array_one + array_two)\n",
    "print(\"Subtract result: \", array_one - array_two)\n",
    "print(\"Multiply result: \", array_one * array_two)\n",
    "print(\"Divide result: \", array_one / array_two)\n"
   ]
  },
  {
   "cell_type": "markdown",
   "metadata": {},
   "source": [
    "## Universal Functions"
   ]
  },
  {
   "cell_type": "code",
   "execution_count": 9,
   "metadata": {},
   "outputs": [],
   "source": [
    "arr = np.array([1, 2, 3, 4, 5])\n",
    "\n",
    "# Square root\n",
    "sqrt_arr = np.sqrt(arr)\n",
    "\n",
    "# Exponential function\n",
    "exp_arr = np.exp(arr)\n",
    "\n",
    "# Trigonometric functions\n",
    "sin_arr = np.sin(arr)\n",
    "cos_arr = np.cos(arr)\n"
   ]
  },
  {
   "cell_type": "markdown",
   "metadata": {},
   "source": [
    "## Statistical Operations"
   ]
  },
  {
   "cell_type": "code",
   "execution_count": null,
   "metadata": {},
   "outputs": [],
   "source": [
    "# Basic statistical operations\n",
    "data = np.array([1, 2, 3, 4, 5])\n",
    "\n",
    "mean_value = np.mean(data)\n",
    "median_value = np.median(data)\n",
    "std_deviation = np.std(data)\n",
    "variance = np.var(data)"
   ]
  },
  {
   "cell_type": "markdown",
   "metadata": {},
   "source": [
    "## Linear Algebra Operations"
   ]
  },
  {
   "cell_type": "code",
   "execution_count": 14,
   "metadata": {},
   "outputs": [
    {
     "name": "stdout",
     "output_type": "stream",
     "text": [
      "[[33 39 43]\n",
      " [33 25 49]\n",
      " [69 86 88]]\n"
     ]
    }
   ],
   "source": [
    "matrix_a = np.array([[3, 4], [7, 2], [5, 9]]) # 3 rows, 2 columns (3 x 2)\n",
    "matrix_b = np.array([[3, 1, 5], [6, 9, 7]]) # 2 rows, 3 columns (2 x 3)\n",
    "\n",
    "# result should be 3 x 3\n",
    "matrix_multiply_result = np.dot(matrix_a, matrix_b)\n",
    "print(matrix_multiply_result)"
   ]
  }
 ],
 "metadata": {
  "kernelspec": {
   "display_name": "Python 3",
   "language": "python",
   "name": "python3"
  },
  "language_info": {
   "codemirror_mode": {
    "name": "ipython",
    "version": 3
   },
   "file_extension": ".py",
   "mimetype": "text/x-python",
   "name": "python",
   "nbconvert_exporter": "python",
   "pygments_lexer": "ipython3",
   "version": "3.11.7"
  }
 },
 "nbformat": 4,
 "nbformat_minor": 2
}
