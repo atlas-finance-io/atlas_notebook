{
 "cells": [
  {
   "cell_type": "markdown",
   "metadata": {},
   "source": [
    "# Pandas Basics\n",
    "\n",
    "Pandas is a Python library for working with data sets. It has functions for analyzing, cleaning, exploring, and manipulating data"
   ]
  },
  {
   "cell_type": "code",
   "execution_count": 68,
   "metadata": {},
   "outputs": [],
   "source": [
    "import warnings\n",
    "warnings.filterwarnings('ignore')\n",
    "\n",
    "import pandas as pd\n",
    "import numpy as np\n",
    "import matplotlib.pyplot as plt"
   ]
  },
  {
   "cell_type": "markdown",
   "metadata": {},
   "source": [
    "## Basic data structures in pandas\n",
    "\n",
    "1. Series: a one dimensional labeled array holding data of any type. The axis labels are referred to as the index\n",
    "2. DataFrame: a two dimensional data structure that holds data like a 2D array or a table with rows and columns. Columns are series\n",
    "\n",
    "We call the axis labels of Series its index. An index can either be passed to a series as a paramter or added later. If you dont specify the index, a series will cointain an index composed of integers starting from 0 and incrementing by 1.\n",
    "\n",
    "`Series` are typically accessed using the `iloc[]` and `loc[]` methods. We use `iloc[]` to access elements by integer index and we use `loc[]` to access the index of the Series."
   ]
  },
  {
   "cell_type": "code",
   "execution_count": 69,
   "metadata": {},
   "outputs": [
    {
     "name": "stdout",
     "output_type": "stream",
     "text": [
      "0    1\n",
      "1    2\n",
      "2    3\n",
      "3    4\n",
      "dtype: int64\n",
      "2    3\n",
      "3    4\n",
      "4    5\n",
      "dtype: int64\n",
      "0     1\n",
      "3     4\n",
      "6     7\n",
      "9    10\n",
      "dtype: int64\n",
      "3     4\n",
      "4     5\n",
      "5     6\n",
      "6     7\n",
      "7     8\n",
      "8     9\n",
      "9    10\n",
      "dtype: int64\n",
      "4     5\n",
      "5     6\n",
      "6     7\n",
      "7     8\n",
      "8     9\n",
      "9    10\n",
      "dtype: int64\n"
     ]
    }
   ],
   "source": [
    "series = pd.Series([1, 2, 3, 4, 5, 6, 7, 8, 9, 10])\n",
    "\n",
    "# Slicing a series\n",
    "s1 = series[:4]  # slices the first 4 elements\n",
    "print(s1)\n",
    "\n",
    "s2 = series[2:5] # first is inclusive, second is exclusive\n",
    "print(s2)\n",
    "\n",
    "s3 = series[::3] # slice with step. Starting from first element, selects every 3rd element\n",
    "print(s3)\n",
    "\n",
    "s4 = series[3:] # starting from 3 index, selects the rest of the series\n",
    "print(s4)\n",
    "\n",
    "s5 = series[series > 4] # conditional slicing. Select all elements greater than 4\n",
    "print(s5)"
   ]
  },
  {
   "cell_type": "code",
   "execution_count": 70,
   "metadata": {},
   "outputs": [
    {
     "name": "stdout",
     "output_type": "stream",
     "text": [
      "   name  age\n",
      "0  Mark   29\n",
      "1   Sam   28\n",
      "     name  age\n",
      "3   Jesse   40\n",
      "4   Aaron   24\n",
      "5  Darian   36\n"
     ]
    }
   ],
   "source": [
    "# Creating DataFrame from dictionary\n",
    "data = {\n",
    "    \"name\": [\"Mark\", \"Sam\", \"Keith\", \"Jesse\", \"Aaron\", \"Darian\"],\n",
    "    \"age\": [29, 28, 29, 40, 24, 36]\n",
    "}\n",
    "\n",
    "df = pd.DataFrame(data)\n",
    "\n",
    "# Displace the first and last n rows\n",
    "print(df.head(2))\n",
    "print(df.tail(3))\n",
    "\n"
   ]
  },
  {
   "cell_type": "code",
   "execution_count": 71,
   "metadata": {},
   "outputs": [
    {
     "name": "stdout",
     "output_type": "stream",
     "text": [
      "Name Column: \n",
      " 0      Mark\n",
      "1       Sam\n",
      "2     Keith\n",
      "3     Jesse\n",
      "4     Aaron\n",
      "5    Darian\n",
      "Name: name, dtype: object\n",
      "Select Multiple Columns: \n",
      "      name  age\n",
      "0    Mark   29\n",
      "1     Sam   28\n",
      "2   Keith   29\n",
      "3   Jesse   40\n",
      "4   Aaron   24\n",
      "5  Darian   36\n",
      "First row: \n",
      " name    Mark\n",
      "age       29\n",
      "Name: 0, dtype: object\n",
      "Selected rows: \n",
      "     name  age\n",
      "2  Keith   29\n",
      "3  Jesse   40\n",
      "4  Aaron   24\n"
     ]
    }
   ],
   "source": [
    "# Accessing columns\n",
    "name_column = df['name'] \n",
    "print(\"Name Column: \\n\", name_column)\n",
    "\n",
    "multi_columns = df[['name', 'age']]\n",
    "print(\"Select Multiple Columns: \\n\", multi_columns)\n",
    "\n",
    "# Accessing Rows\n",
    "row_one = df.loc[0]\n",
    "print(\"First row: \\n\", row_one)\n",
    "\n",
    "# Accessing Multiple rows\n",
    "selected_rows = df.loc[2:4] # both numbers here are inclusive, which is different than series slicing\n",
    "print(\"Selected rows: \\n\", selected_rows)"
   ]
  },
  {
   "cell_type": "code",
   "execution_count": 72,
   "metadata": {},
   "outputs": [
    {
     "name": "stdout",
     "output_type": "stream",
     "text": [
      "     name   age    country\n",
      "1     Sam  28.0     Canada\n",
      "2   Keith  29.0  Indonesia\n",
      "3   Jesse  40.0     Canada\n",
      "4   Aaron  24.0     Canada\n",
      "5  Darian  36.0    Ireland\n"
     ]
    }
   ],
   "source": [
    "# Adding a new Column\n",
    "df[\"country\"] = [\"Indonesia\", \"Canada\", \"Indonesia\", \"Canada\", \"Canada\", \"Ireland\"] # Array needs to match the length of rows, will get error otherwise\n",
    "\n",
    "# Filtering Data\n",
    "old_people = df[df['age'] > 29]\n",
    "old_people\n",
    "\n",
    "# Copy data frame, reassign first row to all nan and then drop the row\n",
    "new_df = df.copy()\n",
    "new_df.iloc[0] = np.nan\n",
    "new_df = new_df.dropna()\n",
    "print(new_df)\n",
    "\n",
    "# Fill missing values with a specific value, currently no missing values in df but this is how you would fill missing data with 0\n",
    "df_filled = df.fillna(0)\n"
   ]
  },
  {
   "cell_type": "code",
   "execution_count": 73,
   "metadata": {},
   "outputs": [
    {
     "name": "stdout",
     "output_type": "stream",
     "text": [
      "country\n",
      "Canada       30.666667\n",
      "Indonesia    29.000000\n",
      "Ireland      36.000000\n",
      "Name: age, dtype: float64\n"
     ]
    }
   ],
   "source": [
    "# Grouping and Aggregation\n",
    "mean_age_by_country = df.groupby(\"country\")['age'].mean()\n",
    "print(mean_age_by_country)"
   ]
  },
  {
   "cell_type": "code",
   "execution_count": 87,
   "metadata": {},
   "outputs": [
    {
     "name": "stdout",
     "output_type": "stream",
     "text": [
      "               name  age    country\n",
      "label_index                        \n",
      "one            Mark   29  Indonesia\n",
      "two             Sam   28     Canada\n",
      "three         Keith   29  Indonesia\n",
      "four          Jesse   40     Canada\n",
      "five          Aaron   24     Canada\n",
      "six          Darian   36    Ireland\n",
      "Country:  Canada\n",
      "Age:  29\n",
      "28\n",
      "Indonesia\n"
     ]
    }
   ],
   "source": [
    "# Assessing cell values. Remember we can either have an integer index or if we set the index to another column or have some custom unique strings as an index, we can select the row with that. You can still use integer based access even if you set the index to something else.\n",
    "# Usually when working with financial time series, you're index will be date time strings.\n",
    "\n",
    "# print df for reference\n",
    "print(df)\n",
    "\n",
    "# Using .at[] for label based access. Fast label based scalar access. We will have to set the index of df to something\n",
    "label_index = [\"one\", \"two\", \"three\", \"four\", \"five\", \"six\"]\n",
    "df['label_index'] = label_index\n",
    "df.set_index('label_index', inplace=True)\n",
    "cell_value = df.at['two', 'country']\n",
    "print(\"Country: \", cell_value)\n",
    "\n",
    "# Using .loc[] for label based access\n",
    "print(\"Age: \", df.loc[\"one\", \"age\"])\n",
    "\n",
    "# Using .at[] for fast integer based access\n",
    "cell_value = df.iat[1, 1]\n",
    "print(cell_value)\n",
    "\n",
    "# using .iloc[]\n",
    "cell_value = df.iloc[2, 2]\n",
    "print(cell_value)"
   ]
  },
  {
   "cell_type": "markdown",
   "metadata": {},
   "source": [
    "## Concatenating Dataframes\n",
    "\n",
    "Here, we'll start with a new datafame"
   ]
  },
  {
   "cell_type": "code",
   "execution_count": 74,
   "metadata": {},
   "outputs": [
    {
     "data": {
      "text/html": [
       "<div>\n",
       "<style scoped>\n",
       "    .dataframe tbody tr th:only-of-type {\n",
       "        vertical-align: middle;\n",
       "    }\n",
       "\n",
       "    .dataframe tbody tr th {\n",
       "        vertical-align: top;\n",
       "    }\n",
       "\n",
       "    .dataframe thead th {\n",
       "        text-align: right;\n",
       "    }\n",
       "</style>\n",
       "<table border=\"1\" class=\"dataframe\">\n",
       "  <thead>\n",
       "    <tr style=\"text-align: right;\">\n",
       "      <th></th>\n",
       "      <th>A</th>\n",
       "      <th>B</th>\n",
       "    </tr>\n",
       "  </thead>\n",
       "  <tbody>\n",
       "    <tr>\n",
       "      <th>0</th>\n",
       "      <td>1</td>\n",
       "      <td>3</td>\n",
       "    </tr>\n",
       "    <tr>\n",
       "      <th>1</th>\n",
       "      <td>2</td>\n",
       "      <td>4</td>\n",
       "    </tr>\n",
       "    <tr>\n",
       "      <th>0</th>\n",
       "      <td>5</td>\n",
       "      <td>7</td>\n",
       "    </tr>\n",
       "    <tr>\n",
       "      <th>1</th>\n",
       "      <td>6</td>\n",
       "      <td>8</td>\n",
       "    </tr>\n",
       "  </tbody>\n",
       "</table>\n",
       "</div>"
      ],
      "text/plain": [
       "   A  B\n",
       "0  1  3\n",
       "1  2  4\n",
       "0  5  7\n",
       "1  6  8"
      ]
     },
     "execution_count": 74,
     "metadata": {},
     "output_type": "execute_result"
    }
   ],
   "source": [
    "# Concatenate DataFrames vertically. Inserts df2 on the bottom of df1\n",
    "df1 = pd.DataFrame({'A': [1, 2], 'B': [3, 4]})\n",
    "df2 = pd.DataFrame({'A': [5, 6], 'B': [7, 8]})\n",
    "concatenated_df = pd.concat([df1, df2])\n",
    "concatenated_df"
   ]
  },
  {
   "cell_type": "markdown",
   "metadata": {},
   "source": [
    "## Merging Dataframes"
   ]
  },
  {
   "cell_type": "code",
   "execution_count": 75,
   "metadata": {},
   "outputs": [
    {
     "data": {
      "text/html": [
       "<div>\n",
       "<style scoped>\n",
       "    .dataframe tbody tr th:only-of-type {\n",
       "        vertical-align: middle;\n",
       "    }\n",
       "\n",
       "    .dataframe tbody tr th {\n",
       "        vertical-align: top;\n",
       "    }\n",
       "\n",
       "    .dataframe thead th {\n",
       "        text-align: right;\n",
       "    }\n",
       "</style>\n",
       "<table border=\"1\" class=\"dataframe\">\n",
       "  <thead>\n",
       "    <tr style=\"text-align: right;\">\n",
       "      <th></th>\n",
       "      <th>ID</th>\n",
       "      <th>Name</th>\n",
       "      <th>Age</th>\n",
       "    </tr>\n",
       "  </thead>\n",
       "  <tbody>\n",
       "    <tr>\n",
       "      <th>0</th>\n",
       "      <td>2</td>\n",
       "      <td>Bob</td>\n",
       "      <td>25</td>\n",
       "    </tr>\n",
       "    <tr>\n",
       "      <th>1</th>\n",
       "      <td>3</td>\n",
       "      <td>Charlie</td>\n",
       "      <td>30</td>\n",
       "    </tr>\n",
       "  </tbody>\n",
       "</table>\n",
       "</div>"
      ],
      "text/plain": [
       "   ID     Name  Age\n",
       "0   2      Bob   25\n",
       "1   3  Charlie   30"
      ]
     },
     "execution_count": 75,
     "metadata": {},
     "output_type": "execute_result"
    }
   ],
   "source": [
    "# Merge DataFrames based on a common column\n",
    "df1 = pd.DataFrame({'ID': [1, 2, 3], 'Name': ['Alice', 'Bob', 'Charlie']})\n",
    "df2 = pd.DataFrame({'ID': [2, 3, 4], 'Age': [25, 30, 22]})\n",
    "merged_df = pd.merge(df1, df2, on='ID')\n",
    "\n",
    "merged_df"
   ]
  }
 ],
 "metadata": {
  "kernelspec": {
   "display_name": "venv",
   "language": "python",
   "name": "python3"
  },
  "language_info": {
   "codemirror_mode": {
    "name": "ipython",
    "version": 3
   },
   "file_extension": ".py",
   "mimetype": "text/x-python",
   "name": "python",
   "nbconvert_exporter": "python",
   "pygments_lexer": "ipython3",
   "version": "3.11.7"
  }
 },
 "nbformat": 4,
 "nbformat_minor": 2
}
