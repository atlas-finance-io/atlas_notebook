{
  "cells": [
    {
      "cell_type": "markdown",
      "metadata": {},
      "source": [
        "## Correlation Matrix for Binance Universe.\n",
        "\n",
        "Calculates correlations for a crypto universe. Add symbols as needed.\n"
      ]
    },
    {
      "cell_type": "markdown",
      "metadata": {},
      "source": [
        "### Define Universe\n"
      ]
    },
    {
      "cell_type": "code",
      "execution_count": 5,
      "metadata": {
        "trusted": true
      },
      "outputs": [],
      "source": [
        "CCXT_FUTURES_SYMBOLS = ['BTCUSDT', 'ETHUSDT', 'BCHUSDT', 'XRPUSDT', 'EOSUSDT', 'LTCUSDT', 'TRXUSDT', 'ETCUSDT', 'LINKUSDT', 'XLMUSDT',\n",
        "                        'ADAUSDT', 'ONTUSDT', 'IOTAUSDT', 'BATUSDT']"
      ]
    },
    {
      "cell_type": "markdown",
      "metadata": {},
      "source": [
        "### Fetch Prices\n"
      ]
    },
    {
      "cell_type": "code",
      "execution_count": null,
      "metadata": {
        "trusted": true
      },
      "outputs": [
        {
          "name": "stdout",
          "output_type": "stream",
          "text": [
            "Fetched data for BTCUSDT\n",
            "Fetched data for ETHUSDT\n",
            "Fetched data for BCHUSDT\n",
            "Fetched data for XRPUSDT\n",
            "Fetched data for EOSUSDT\n",
            "Fetched data for LTCUSDT\n",
            "Fetched data for TRXUSDT\n"
          ]
        }
      ],
      "source": [
        "\n",
        "import ccxt\n",
        "import pandas as pd\n",
        "import numpy as np\n",
        "import matplotlib.pyplot as plt\n",
        "import seaborn as sns\n",
        "import datetime\n",
        "\n",
        "# Initialize the exchange\n",
        "exchange = ccxt.binance({\n",
        "    'rateLimit': 1200,\n",
        "    'enableRateLimit': True\n",
        "})\n",
        "\n",
        "# Function to fetch historical data for a symbol\n",
        "\n",
        "\n",
        "def fetch_historical_data(symbol):\n",
        "    # Fetch daily OHLCV data since inception\n",
        "    # Assuming the exchange started in 2010\n",
        "    since = exchange.parse8601('2010-01-01T00:00:00Z')\n",
        "    all_ohlcv = []\n",
        "    while since:\n",
        "        ohlcv = exchange.fetch_ohlcv(symbol, '1d', since)\n",
        "        if ohlcv:\n",
        "            all_ohlcv.extend(ohlcv)\n",
        "            since = ohlcv[-1][0] + 1\n",
        "        else:\n",
        "            break\n",
        "    # Convert to DataFrame\n",
        "    df = pd.DataFrame(all_ohlcv, columns=[\n",
        "                      'timestamp', 'open', 'high', 'low', 'close', 'volume'])\n",
        "    # Convert timestamp to datetime\n",
        "    df['timestamp'] = pd.to_datetime(df['timestamp'], unit='ms')\n",
        "    # Set the timestamp as the index\n",
        "    df.set_index('timestamp', inplace=True)\n",
        "    return df['close']\n",
        "\n",
        "\n",
        "# Fetch historical close prices for all symbols\n",
        "close_prices = {}\n",
        "for symbol in CCXT_FUTURES_SYMBOLS:\n",
        "    try:\n",
        "        close_prices[symbol] = fetch_historical_data(symbol)\n",
        "        print(f\"Fetched data for {symbol}\")\n",
        "    except Exception as e:\n",
        "        print(f\"Error fetching data for {symbol}: {str(e)}\")\n",
        "\n",
        "# Combine close prices into a single DataFrame\n",
        "combined_df = pd.DataFrame(close_prices)"
      ]
    },
    {
      "cell_type": "markdown",
      "metadata": {},
      "source": [
        "### Calculate Correlations\n"
      ]
    },
    {
      "cell_type": "code",
      "execution_count": null,
      "metadata": {
        "trusted": true
      },
      "outputs": [],
      "source": [
        "# Calculate the correlation matrix\n",
        "correlation_matrix = combined_df.corr()\n",
        "\n",
        "# Set the theme to darkgrid for a dark background\n",
        "sns.set_theme(style=\"darkgrid\")\n",
        "\n",
        "# Customize the background to black\n",
        "plt.rcParams['axes.facecolor'] = 'black'\n",
        "plt.rcParams['figure.facecolor'] = 'black'\n",
        "plt.rcParams['savefig.facecolor'] = 'black'\n",
        "\n",
        "# Create a custom diverging palette with red for low and green for high correlation\n",
        "cmap = sns.diverging_palette(10, 150, s=99, l=50, as_cmap=True)\n",
        "\n",
        "# Visualize the correlation matrix using a heatmap\n",
        "plt.figure(figsize=(10, 8))\n",
        "plt.title('Correlation Matrix of Close Prices',\n",
        "          color='white')  # Set title color to white\n",
        "heatmap = sns.heatmap(correlation_matrix, annot=True, fmt=\".2f\", cmap=cmap,\n",
        "                      # Set annotation text color to white\n",
        "                      annot_kws={\"color\": \"white\"},\n",
        "                      cbar_kws={'label': 'Correlation',\n",
        "                                'ticks': [-1, 0, 1]},  # Customize colorbar\n",
        "                      linewidths=0.5, linecolor='gray', vmin=-1, vmax=1)  # Ensure the color range is correct\n",
        "\n",
        "# Customize the colorbar\n",
        "colorbar = heatmap.collections[0].colorbar\n",
        "colorbar.ax.yaxis.label.set_color('white')  # Set colorbar label color to white\n",
        "colorbar.ax.tick_params(colors='white')  # Set colorbar ticks color to white\n",
        "\n",
        "# Set tick labels color to white\n",
        "heatmap.set_xticklabels(heatmap.get_xticklabels(\n",
        "), rotation=45, horizontalalignment='right', color='white')\n",
        "heatmap.set_yticklabels(heatmap.get_yticklabels(), rotation=0, color='white')\n",
        "\n",
        "plt.show()"
      ]
    }
  ],
  "metadata": {
    "extensions": {
      "my_extension": true
    },
    "kernelspec": {
      "display_name": "Python 3 (ipykernel)",
      "language": "python",
      "name": "python3"
    },
    "language_info": {
      "codemirror_mode": {
        "name": "ipython",
        "version": 3
      },
      "file_extension": ".py",
      "mimetype": "text/x-python",
      "name": "python",
      "nbconvert_exporter": "python",
      "pygments_lexer": "ipython3",
      "version": "3.11.9"
    }
  },
  "nbformat": 4,
  "nbformat_minor": 4
}
